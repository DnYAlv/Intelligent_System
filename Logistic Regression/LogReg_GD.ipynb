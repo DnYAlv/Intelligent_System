{
 "cells": [
  {
   "cell_type": "markdown",
   "metadata": {},
   "source": [
    "# Logistic Regression with Gradient Descent"
   ]
  },
  {
   "cell_type": "markdown",
   "metadata": {},
   "source": [
    "## Importing Libraries"
   ]
  },
  {
   "cell_type": "code",
   "execution_count": 3,
   "metadata": {},
   "outputs": [],
   "source": [
    "import pandas as pd\n",
    "import numpy as np\n",
    "import matplotlib.pyplot as plt\n",
    "import seaborn as sns"
   ]
  },
  {
   "cell_type": "markdown",
   "metadata": {},
   "source": [
    "## Visualizing Dataset"
   ]
  },
  {
   "cell_type": "code",
   "execution_count": 2,
   "metadata": {},
   "outputs": [
    {
     "data": {
      "text/html": [
       "<div>\n",
       "<style scoped>\n",
       "    .dataframe tbody tr th:only-of-type {\n",
       "        vertical-align: middle;\n",
       "    }\n",
       "\n",
       "    .dataframe tbody tr th {\n",
       "        vertical-align: top;\n",
       "    }\n",
       "\n",
       "    .dataframe thead th {\n",
       "        text-align: right;\n",
       "    }\n",
       "</style>\n",
       "<table border=\"1\" class=\"dataframe\">\n",
       "  <thead>\n",
       "    <tr style=\"text-align: right;\">\n",
       "      <th></th>\n",
       "      <th>X1</th>\n",
       "      <th>X2</th>\n",
       "      <th>y</th>\n",
       "    </tr>\n",
       "  </thead>\n",
       "  <tbody>\n",
       "    <tr>\n",
       "      <th>0</th>\n",
       "      <td>0.08</td>\n",
       "      <td>0.72</td>\n",
       "      <td>1</td>\n",
       "    </tr>\n",
       "    <tr>\n",
       "      <th>1</th>\n",
       "      <td>0.26</td>\n",
       "      <td>0.58</td>\n",
       "      <td>1</td>\n",
       "    </tr>\n",
       "    <tr>\n",
       "      <th>2</th>\n",
       "      <td>0.45</td>\n",
       "      <td>0.15</td>\n",
       "      <td>1</td>\n",
       "    </tr>\n",
       "    <tr>\n",
       "      <th>3</th>\n",
       "      <td>0.60</td>\n",
       "      <td>0.30</td>\n",
       "      <td>1</td>\n",
       "    </tr>\n",
       "    <tr>\n",
       "      <th>4</th>\n",
       "      <td>0.10</td>\n",
       "      <td>1.00</td>\n",
       "      <td>0</td>\n",
       "    </tr>\n",
       "    <tr>\n",
       "      <th>5</th>\n",
       "      <td>0.35</td>\n",
       "      <td>0.95</td>\n",
       "      <td>0</td>\n",
       "    </tr>\n",
       "    <tr>\n",
       "      <th>6</th>\n",
       "      <td>0.70</td>\n",
       "      <td>0.65</td>\n",
       "      <td>0</td>\n",
       "    </tr>\n",
       "    <tr>\n",
       "      <th>7</th>\n",
       "      <td>0.92</td>\n",
       "      <td>0.45</td>\n",
       "      <td>0</td>\n",
       "    </tr>\n",
       "  </tbody>\n",
       "</table>\n",
       "</div>"
      ],
      "text/plain": [
       "     X1    X2  y\n",
       "0  0.08  0.72  1\n",
       "1  0.26  0.58  1\n",
       "2  0.45  0.15  1\n",
       "3  0.60  0.30  1\n",
       "4  0.10  1.00  0\n",
       "5  0.35  0.95  0\n",
       "6  0.70  0.65  0\n",
       "7  0.92  0.45  0"
      ]
     },
     "execution_count": 2,
     "metadata": {},
     "output_type": "execute_result"
    }
   ],
   "source": [
    "X_train = np.array([[0.08, 0.72], [0.26, 0.58], [0.45, 0.15], [0.60, 0.30],[0.10, 1.0], [0.35, 0.95], [0.70, 0.65], [0.92, 0.45]])\n",
    "y_train = np.array([1, 1, 1, 1, 0, 0, 0, 0])\n",
    "X_test = np.array([[0.10, 0.9], [0.4, 0.2], [0.8, 0.5], [0.2, 0.6]])\n",
    "\n",
    "data = pd.DataFrame({\n",
    "    'X1': X_train[:, 0],\n",
    "    'X2': X_train[:, 1],\n",
    "    'y': y_train\n",
    "})\n",
    "\n",
    "data"
   ]
  },
  {
   "cell_type": "code",
   "execution_count": 6,
   "metadata": {},
   "outputs": [
    {
     "data": {
      "image/png": "[encoded data removed]",
      "text/plain": [
       "<Figure size 576x432 with 1 Axes>"
      ]
     },
     "metadata": {
      "needs_background": "light"
     },
     "output_type": "display_data"
    }
   ],
   "source": [
    "plt.figure(figsize=(8,6))\n",
    "sns.scatterplot(data=data, x='X1', y='X2', hue='y')\n",
    "plt.title('Scatter plot between X1 and X2')\n",
    "plt.show()"
   ]
  },
  {
   "cell_type": "markdown",
   "metadata": {},
   "source": [
    "## Modelling"
   ]
  },
  {
   "cell_type": "code",
   "execution_count": 27,
   "metadata": {},
   "outputs": [],
   "source": [
    "class LogReg_GD:\n",
    "    def __init__(self, n_Var):\n",
    "        self.bias = 0\n",
    "        self.weight = np.random.randn(n_Var)\n",
    "    \n",
    "    def sigmoid_function(self, z):\n",
    "        return 1/(1+np.exp(-z))\n",
    "\n",
    "    def predict(self, weight, X, bias):\n",
    "        y_prediction = self.sigmoid_function(np.array(np.dot(X, weight) + bias))\n",
    "        return y_prediction\n",
    "\n",
    "    def cost_function(self, X, y, y_prediction):\n",
    "        m =  X.shape[0]\n",
    "        return (-1/m)*np.sum(y*np.log(y_prediction) + (1-y)*np.log(1-y_prediction))\n",
    "    \n",
    "    def derivative_weight(self, y_prediction, y, X, learning_rate):\n",
    "        dw = np.dot((y_prediction - y), X)\n",
    "        return self.weight - (learning_rate * dw)\n",
    "    \n",
    "    def derivative_bias(self, y_prediction, y, learning_rate):\n",
    "        db = np.sum(y_prediction - y)\n",
    "        return self.bias - (learning_rate * db)\n",
    "    \n",
    "    def gradient_descent(self, X, y, epochs, learning_rate):\n",
    "        loss = []\n",
    "\n",
    "        for _ in range(epochs):\n",
    "            y_prediction = self.predict(self.weight, X, self.bias)\n",
    "            self.weight = self.derivative_weight(y_prediction, y, X, learning_rate)\n",
    "            self.bias = self.derivative_bias(y_prediction, y, learning_rate)\n",
    "            loss.append(self.cost_function(X, y, y_prediction))\n",
    "        \n",
    "        return loss"
   ]
  },
  {
   "cell_type": "code",
   "execution_count": 32,
   "metadata": {},
   "outputs": [
    {
     "name": "stdout",
     "output_type": "stream",
     "text": [
      "Learning Rate : 0.1\n",
      "Weight : [-19.75089636 -27.57612576]\n",
      "Bias : 25.577046239591596\n",
      "Learning Rate : 0.5\n",
      "Weight : [-26.62624578 -37.53817571]\n",
      "Bias : 34.74673828208319\n",
      "Learning Rate : 1\n",
      "Weight : [-29.63645102 -41.91317775]\n",
      "Bias : 38.77132748726733\n"
     ]
    }
   ],
   "source": [
    "lr_candidate = [0.1, 0.5, 1]\n",
    "loss_list = []\n",
    "\n",
    "for lr in lr_candidate:\n",
    "    model = LogReg_GD(X_train.shape[1])\n",
    "    epochs = 15000\n",
    "    loss = model.gradient_descent(X_train, y_train, epochs, lr)\n",
    "    print(f'Learning Rate : {lr}')\n",
    "    print(f'Weight : {model.weight}')\n",
    "    print(f'Bias : {model.bias}')\n",
    "    loss_list.append([lr, loss])"
   ]
  },
  {
   "cell_type": "markdown",
   "metadata": {},
   "source": [
    "### Visualizing the loss"
   ]
  },
  {
   "cell_type": "code",
   "execution_count": 34,
   "metadata": {},
   "outputs": [
    {
     "data": {
      "image/png": "[encoded data removed]",
      "text/plain": [
       "<Figure size 576x432 with 1 Axes>"
      ]
     },
     "metadata": {
      "needs_background": "light"
     },
     "output_type": "display_data"
    }
   ],
   "source": [
    "plt.figure(figsize=(8, 6))\n",
    "for i in range(len(loss_list)):\n",
    "    plt.plot(np.arange(1, epochs), loss_list[i][1][1:], label=loss_list[i][0])\n",
    "\n",
    "plt.title('Epochs vs Loss')\n",
    "plt.xlabel('Loss')\n",
    "plt.ylabel('Epochs')\n",
    "plt.legend()\n",
    "plt.show()"
   ]
  },
  {
   "cell_type": "markdown",
   "metadata": {},
   "source": [
    "> Dari visualisasi di atas, bisa dilihat bahwa learning rate 1 menghasilkan loss (cost function) yang mendekati 0, iterasi berikutnya bakal memiliki nilai loss yang mirip."
   ]
  },
  {
   "cell_type": "markdown",
   "metadata": {},
   "source": [
    "## Constructing the final Model"
   ]
  },
  {
   "cell_type": "code",
   "execution_count": 35,
   "metadata": {},
   "outputs": [
    {
     "name": "stdout",
     "output_type": "stream",
     "text": [
      "Weight : [-29.63569271 -41.91207465]\n",
      "Bias : 38.770312842009\n"
     ]
    }
   ],
   "source": [
    "model = LogReg_GD(X_train.shape[1])\n",
    "epochs = 15000\n",
    "learning_rate = 1\n",
    "model.gradient_descent(X_train, y_train, epochs, 1)\n",
    "print(f'Weight : {model.weight}')\n",
    "print(f'Bias : {model.bias}')"
   ]
  },
  {
   "cell_type": "markdown",
   "metadata": {},
   "source": [
    "## Prediction using the Model\n",
    "\n",
    "Kita telah melakukan training **Logistic Regression** model kita dan juga dioptimisasi dengan **Gradient Descent**, Setelah itu kita juga ingin melakukan predict untuk melihat hasil y prediction kita menggunakan model tersebut. Namun, hasil y prediction ini yang telah menggunakan sigmoid function menghasilkan value berupa probability antara 0 hingga 1, sehingga kita membutuhkan **Threshold** Untuk mengubah value tersebut menjadi hanya 0 dan 1 dengan batas threshold berupa 0.5"
   ]
  },
  {
   "cell_type": "code",
   "execution_count": 38,
   "metadata": {},
   "outputs": [],
   "source": [
    "def threshold(y):\n",
    "    return [1 if i >= 0.5 else 0 for i in y]"
   ]
  },
  {
   "cell_type": "markdown",
   "metadata": {},
   "source": [
    "## Comparison"
   ]
  },
  {
   "cell_type": "markdown",
   "metadata": {},
   "source": [
    "- y value with y prediction on training data"
   ]
  },
  {
   "cell_type": "code",
   "execution_count": 49,
   "metadata": {},
   "outputs": [
    {
     "data": {
      "text/html": [
       "<div>\n",
       "<style scoped>\n",
       "    .dataframe tbody tr th:only-of-type {\n",
       "        vertical-align: middle;\n",
       "    }\n",
       "\n",
       "    .dataframe tbody tr th {\n",
       "        vertical-align: top;\n",
       "    }\n",
       "\n",
       "    .dataframe thead th {\n",
       "        text-align: right;\n",
       "    }\n",
       "</style>\n",
       "<table border=\"1\" class=\"dataframe\">\n",
       "  <thead>\n",
       "    <tr style=\"text-align: right;\">\n",
       "      <th></th>\n",
       "      <th>Ground Truth</th>\n",
       "      <th>Prediction</th>\n",
       "      <th>Prediction Probability</th>\n",
       "    </tr>\n",
       "  </thead>\n",
       "  <tbody>\n",
       "    <tr>\n",
       "      <th>0</th>\n",
       "      <td>1</td>\n",
       "      <td>1</td>\n",
       "      <td>0.998020</td>\n",
       "    </tr>\n",
       "    <tr>\n",
       "      <th>1</th>\n",
       "      <td>1</td>\n",
       "      <td>1</td>\n",
       "      <td>0.998838</td>\n",
       "    </tr>\n",
       "    <tr>\n",
       "      <th>2</th>\n",
       "      <td>1</td>\n",
       "      <td>1</td>\n",
       "      <td>1.000000</td>\n",
       "    </tr>\n",
       "    <tr>\n",
       "      <th>3</th>\n",
       "      <td>1</td>\n",
       "      <td>1</td>\n",
       "      <td>0.999779</td>\n",
       "    </tr>\n",
       "    <tr>\n",
       "      <th>4</th>\n",
       "      <td>0</td>\n",
       "      <td>0</td>\n",
       "      <td>0.002226</td>\n",
       "    </tr>\n",
       "    <tr>\n",
       "      <th>5</th>\n",
       "      <td>0</td>\n",
       "      <td>0</td>\n",
       "      <td>0.000011</td>\n",
       "    </tr>\n",
       "    <tr>\n",
       "      <th>6</th>\n",
       "      <td>0</td>\n",
       "      <td>0</td>\n",
       "      <td>0.000099</td>\n",
       "    </tr>\n",
       "    <tr>\n",
       "      <th>7</th>\n",
       "      <td>0</td>\n",
       "      <td>0</td>\n",
       "      <td>0.000639</td>\n",
       "    </tr>\n",
       "  </tbody>\n",
       "</table>\n",
       "</div>"
      ],
      "text/plain": [
       "   Ground Truth  Prediction  Prediction Probability\n",
       "0             1           1                0.998020\n",
       "1             1           1                0.998838\n",
       "2             1           1                1.000000\n",
       "3             1           1                0.999779\n",
       "4             0           0                0.002226\n",
       "5             0           0                0.000011\n",
       "6             0           0                0.000099\n",
       "7             0           0                0.000639"
      ]
     },
     "execution_count": 49,
     "metadata": {},
     "output_type": "execute_result"
    }
   ],
   "source": [
    "y_prediction_probability = model.predict(model.weight, X_train, model.bias)\n",
    "y_prediction_threshold = threshold(y_prediction_probability)\n",
    "data_pred_train = pd.DataFrame({\n",
    "    'Ground Truth': y_train,\n",
    "    'Prediction': y_prediction_threshold,\n",
    "    'Prediction Probability': y_prediction_probability\n",
    "})\n",
    "\n",
    "data_pred_train"
   ]
  },
  {
   "cell_type": "markdown",
   "metadata": {},
   "source": [
    "> Dari sini, bisa dilihat bahwa model kita bekerja dengan baik terhadap training data."
   ]
  },
  {
   "cell_type": "markdown",
   "metadata": {},
   "source": [
    "### Cost Function"
   ]
  },
  {
   "cell_type": "code",
   "execution_count": 50,
   "metadata": {},
   "outputs": [
    {
     "name": "stdout",
     "output_type": "stream",
     "text": [
      "Cost Value on Training Data : 0.0007930411623265523\n"
     ]
    }
   ],
   "source": [
    "def cost_function(X, y, y_prediction):\n",
    "    m = X.shape[0]\n",
    "    return (-1/m)*np.sum(y*np.log(y_prediction) + (1-y)*np.log(1-y_prediction))\n",
    "\n",
    "print(f'Cost Value on Training Data : {cost_function(X_train, y_train, y_prediction_probability)}')"
   ]
  },
  {
   "cell_type": "markdown",
   "metadata": {},
   "source": [
    "### Visualizing the boundary on Training Data"
   ]
  },
  {
   "cell_type": "code",
   "execution_count": 51,
   "metadata": {},
   "outputs": [
    {
     "data": {
      "image/png": "[encoded data removed]",
      "text/plain": [
       "<Figure size 432x288 with 1 Axes>"
      ]
     },
     "metadata": {
      "needs_background": "light"
     },
     "output_type": "display_data"
    }
   ],
   "source": [
    "boundary_line = ((-model.weight[0]/model.weight[1])*X_train[:, 0] + (-model.bias/model.weight[1]))\n",
    "\n",
    "sns.lineplot(x=X_train[:,0], y=boundary_line, color='black', label='Boundary Line')\n",
    "plt.fill_between(X_train[:, 0], boundary_line, 1, color = 'tab:red', alpha = 0.1)\n",
    "plt.fill_between(X_train[:,0], boundary_line, 0, color = 'tab:blue', alpha = 0.1)\n",
    "sns.scatterplot(x=X_train[:,0], y=X_train[:,1], hue=y_train)\n",
    "\n",
    "plt.xlabel('X1')\n",
    "plt.ylabel('X2')\n",
    "plt.title('Boundary line on training data')\n",
    "plt.show()"
   ]
  },
  {
   "cell_type": "markdown",
   "metadata": {},
   "source": [
    "> Model kita sudah bagus, terlihat bahwa boundary line bisa memisahkan kelas 0 dan 1 dengan baik"
   ]
  },
  {
   "cell_type": "markdown",
   "metadata": {},
   "source": [
    "### Visualizing the boundary on Test Data"
   ]
  },
  {
   "cell_type": "code",
   "execution_count": 52,
   "metadata": {},
   "outputs": [
    {
     "data": {
      "text/html": [
       "<div>\n",
       "<style scoped>\n",
       "    .dataframe tbody tr th:only-of-type {\n",
       "        vertical-align: middle;\n",
       "    }\n",
       "\n",
       "    .dataframe tbody tr th {\n",
       "        vertical-align: top;\n",
       "    }\n",
       "\n",
       "    .dataframe thead th {\n",
       "        text-align: right;\n",
       "    }\n",
       "</style>\n",
       "<table border=\"1\" class=\"dataframe\">\n",
       "  <thead>\n",
       "    <tr style=\"text-align: right;\">\n",
       "      <th></th>\n",
       "      <th>Prediction</th>\n",
       "      <th>Prediction Probability</th>\n",
       "    </tr>\n",
       "  </thead>\n",
       "  <tbody>\n",
       "    <tr>\n",
       "      <th>0</th>\n",
       "      <td>0</td>\n",
       "      <td>0.128518</td>\n",
       "    </tr>\n",
       "    <tr>\n",
       "      <th>1</th>\n",
       "      <td>1</td>\n",
       "      <td>1.000000</td>\n",
       "    </tr>\n",
       "    <tr>\n",
       "      <th>2</th>\n",
       "      <td>0</td>\n",
       "      <td>0.002748</td>\n",
       "    </tr>\n",
       "    <tr>\n",
       "      <th>3</th>\n",
       "      <td>1</td>\n",
       "      <td>0.999546</td>\n",
       "    </tr>\n",
       "  </tbody>\n",
       "</table>\n",
       "</div>"
      ],
      "text/plain": [
       "   Prediction  Prediction Probability\n",
       "0           0                0.128518\n",
       "1           1                1.000000\n",
       "2           0                0.002748\n",
       "3           1                0.999546"
      ]
     },
     "execution_count": 52,
     "metadata": {},
     "output_type": "execute_result"
    }
   ],
   "source": [
    "y_test_probability = model.predict(model.weight, X_test, model.bias)\n",
    "y_test_threshold = threshold(y_test_probability)\n",
    "data_pred_test = pd.DataFrame({\n",
    "    'Prediction': y_test_threshold,\n",
    "    'Prediction Probability': y_test_probability\n",
    "})\n",
    "\n",
    "data_pred_test"
   ]
  },
  {
   "cell_type": "markdown",
   "metadata": {},
   "source": [
    "> Model ini juga bekerja dengan baik di test data, namun kita coba lihat visualisasinya."
   ]
  },
  {
   "cell_type": "code",
   "execution_count": 72,
   "metadata": {},
   "outputs": [
    {
     "data": {
      "image/png": "[encoded data removed]",
      "text/plain": [
       "<Figure size 432x288 with 1 Axes>"
      ]
     },
     "metadata": {
      "needs_background": "light"
     },
     "output_type": "display_data"
    }
   ],
   "source": [
    "x_line = np.array([0,1])\n",
    "boundary_line = ((-model.weight[0]/model.weight[1])*x_line + (-model.bias/model.weight[1]))\n",
    "\n",
    "sns.lineplot(x=x_line, y=boundary_line, color='black', label='Boundary Line')\n",
    "plt.fill_between(x_line, boundary_line, 1, color = 'tab:red', alpha = 0.1)\n",
    "plt.fill_between(x_line, boundary_line, 0, color = 'tab:blue', alpha = 0.1)\n",
    "sns.scatterplot(x=X_test[:,0], y=X_test[:,1], hue=y_test_threshold)\n",
    "\n",
    "plt.xlabel('X1')\n",
    "plt.ylabel('X2')\n",
    "plt.title('Boundary line on testing data')\n",
    "plt.show()"
   ]
  },
  {
   "cell_type": "markdown",
   "metadata": {},
   "source": [
    "> Dari visualisasi di atas, sudah terbukti bahwa model kita bekerja dengan baik, ini bisa dilihat bahwa di test data, model ini mampu mengklasifikasikan kelas 0 dan 1 dengan adanya Boundary Line tersebut."
   ]
  }
 ],
 "metadata": {
  "interpreter": {
   "hash": "dc7104a962baddc7f8f6cc467432e098a5aa2405f98c5f182f4d8a152e575669"
  },
  "kernelspec": {
   "display_name": "Python 3.9.2 64-bit",
   "language": "python",
   "name": "python3"
  },
  "language_info": {
   "codemirror_mode": {
    "name": "ipython",
    "version": 3
   },
   "file_extension": ".py",
   "mimetype": "text/x-python",
   "name": "python",
   "nbconvert_exporter": "python",
   "pygments_lexer": "ipython3",
   "version": "3.9.2"
  },
  "orig_nbformat": 4
 },
 "nbformat": 4,
 "nbformat_minor": 2
}
